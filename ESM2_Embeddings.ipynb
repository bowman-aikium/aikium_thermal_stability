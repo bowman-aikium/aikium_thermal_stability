{
 "cells": [
  {
   "cell_type": "code",
   "execution_count": null,
   "id": "db9b4f30",
   "metadata": {},
   "outputs": [],
   "source": [
    "import torch\n",
    "import esm\n",
    "import pandas as pd\n",
    "import numpy as np\n"
   ]
  },
  {
   "cell_type": "code",
   "execution_count": null,
   "id": "7dc71084",
   "metadata": {},
   "outputs": [],
   "source": [
    "df = pd.read_csv(\"Stratified_data.csv\")\n",
    "df[\"ID\"] = df.index\n",
    "id_column = \"ID\"\n",
    "seq_column = \"Sequence\"\n",
    "batch_size = 32\n",
    "device = torch.device(\"cpu\")"
   ]
  },
  {
   "cell_type": "code",
   "execution_count": null,
   "id": "e9ed986b",
   "metadata": {},
   "outputs": [],
   "source": [
    "sequences = []\n",
    "for idx, row in df.iterrows():\n",
    "    name = str(row[id_column])\n",
    "    seq = str(row[seq_column])\n",
    "    sequences.append((name, seq))"
   ]
  },
  {
   "cell_type": "code",
   "execution_count": null,
   "id": "5d1d2970",
   "metadata": {},
   "outputs": [],
   "source": [
    "model, alphabet = esm.pretrained.esm2_t33_650M_UR50D()\n",
    "batch_converter = alphabet.get_batch_converter()\n",
    "model.eval()\n",
    "model = model.to(device)\n"
   ]
  },
  {
   "cell_type": "code",
   "execution_count": null,
   "id": "b912291d",
   "metadata": {},
   "outputs": [],
   "source": [
    "all_embeddings = []\n",
    "\n",
    "for i in range(0, len(sequences), batch_size):\n",
    "    batch = sequences[i:i+batch_size]\n",
    "    labels, strs, tokens = batch_converter(batch)\n",
    "    tokens = tokens.to(device)\n",
    "\n",
    "    with torch.no_grad():\n",
    "        results = model(tokens, repr_layers=[31])\n",
    "        token_reps = results[\"representations\"][31]\n",
    "\n",
    "    # Mean-pool per sequence\n",
    "    for j, (_, seq) in enumerate(batch):\n",
    "        emb = token_reps[j, 1:len(seq)+1].mean(0).cpu().numpy()\n",
    "        all_embeddings.append(emb)\n",
    "\n",
    "    print(f\"Processed batch {i//batch_size + 1}/{(len(sequences)+batch_size-1)//batch_size}\")"
   ]
  },
  {
   "cell_type": "code",
   "execution_count": null,
   "id": "c8e152f0",
   "metadata": {},
   "outputs": [],
   "source": [
    "all_embeddings = np.stack(all_embeddings) \n",
    "df[\"esm2_embedding\"] = list(all_embeddings)\n",
    "df.to_csv(\"sequences_with_embeddings.csv\", index=False)\n"
   ]
  }
 ],
 "metadata": {
  "language_info": {
   "name": "python"
  }
 },
 "nbformat": 4,
 "nbformat_minor": 5
}
