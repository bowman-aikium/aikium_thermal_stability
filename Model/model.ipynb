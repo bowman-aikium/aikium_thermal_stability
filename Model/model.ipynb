{
 "cells": [
  {
   "cell_type": "code",
   "execution_count": null,
   "id": "5d26b6c8",
   "metadata": {},
   "outputs": [],
   "source": [
    "import torch\n",
    "import torch.nn as nn\n",
    "from torch.utils.data import Dataset, DataLoader\n",
    "import numpy as np\n",
    "\n",
    "class ProteinTmDataset(Dataset):\n",
    "    def __init__(self, embeddings, tm_values):\n",
    "        self.X = torch.tensor(embeddings, dtype=torch.float32)\n",
    "        self.y = torch.tensor(tm_values, dtype=torch.float32).unsqueeze(1)  # regression target\n",
    "\n",
    "    def __len__(self):\n",
    "        return len(self.X)\n",
    "\n",
    "    def __getitem__(self, idx):\n",
    "        return self.X[idx], self.y[idx]\n",
    "    \n",
    "    import torch.nn as nn\n",
    "\n",
    "class thermalMLP(nn.Module):\n",
    "    def __init__(self, input_dim, hidden_sizes=[256, 128], activation=nn.ReLU, dropout=0.0):\n",
    "        super(thermalMLP, self).__init__()\n",
    "        \n",
    "        layers = []\n",
    "        prev_dim = input_dim\n",
    "        \n",
    "        for h in hidden_sizes:\n",
    "            layers.append(nn.Linear(prev_dim, h))\n",
    "            layers.append(activation())   # activation is tunable\n",
    "            if dropout > 0:\n",
    "                layers.append(nn.Dropout(dropout))  # optional dropout\n",
    "            prev_dim = h\n",
    "        \n",
    "        # Output layer\n",
    "        layers.append(nn.Linear(prev_dim, 1))\n",
    "        \n",
    "        self.model = nn.Sequential(*layers)\n",
    "\n",
    "    def forward(self, x):\n",
    "        return self.model(x)"
   ]
  }
 ],
 "metadata": {
  "kernelspec": {
   "display_name": "bioenv",
   "language": "python",
   "name": "python3"
  },
  "language_info": {
   "codemirror_mode": {
    "name": "ipython",
    "version": 3
   },
   "file_extension": ".py",
   "mimetype": "text/x-python",
   "name": "python",
   "nbconvert_exporter": "python",
   "pygments_lexer": "ipython3",
   "version": "3.10.18"
  }
 },
 "nbformat": 4,
 "nbformat_minor": 5
}
